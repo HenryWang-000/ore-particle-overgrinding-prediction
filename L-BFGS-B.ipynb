{
 "cells": [
  {
   "cell_type": "code",
   "execution_count": 4,
   "metadata": {},
   "outputs": [],
   "source": [
    "import numpy as np\n",
    "import pandas as pd\n",
    "from datetime import timedelta\n",
    "import seaborn as sns\n",
    "import matplotlib.pylab as plt\n",
    "\n",
    "plt.rcParams['font.sans-serif'] = ['SimHei'] #设置画图的中文字体显示\n",
    "plt.rcParams['axes.unicode_minus'] = False   #显示负号\n",
    "plt.rcParams['font.size'] = 12\n",
    "\n",
    "from sklearn.model_selection import train_test_split\n",
    "from sklearn.ensemble import RandomForestRegressor\n",
    "from sklearn import metrics\n",
    "from sklearn.metrics import mean_squared_error\n",
    "from scipy.optimize import minimize\n",
    "\n",
    "#隐藏红色警示框\n",
    "import warnings\n",
    "warnings.filterwarnings('ignore')\n",
    "warnings.simplefilter('ignore')\n",
    "\n",
    "seed = 123"
   ]
  },
  {
   "cell_type": "code",
   "execution_count": 2,
   "metadata": {},
   "outputs": [],
   "source": [
    "original_df = pd.read_csv('final_data.csv')\n",
    "original_huayan_df = pd.read_excel('huayan_data.xlsx')"
   ]
  },
  {
   "cell_type": "code",
   "execution_count": 5,
   "metadata": {},
   "outputs": [],
   "source": [
    "control = ['给料皮带G1_矿量反馈', '一段泵池_补加水流量反馈', '一段渣浆泵1_矿浆流量反馈', '球磨机_排矿水阀位']\n",
    "environment = ['半自磨_功率2', '半自磨_出料端总高压', '一段旋流器1_压力', '球磨机_出料端总高压', '1系列1段旋流器A组溢流浓度/%']\n",
    "features = original_df[control + environment]\n",
    "target = original_df['1系列1段旋流器A组溢流粒度/-200目']\n",
    "Xtrain,Xtest,Ytrain,Ytest = train_test_split(features,target,test_size = 0.3,random_state=seed)"
   ]
  },
  {
   "cell_type": "code",
   "execution_count": 7,
   "metadata": {},
   "outputs": [
    {
     "name": "stdout",
     "output_type": "stream",
     "text": [
      "rfr_score: 0.84\n",
      "rfr_rmse: 0.232\n"
     ]
    }
   ],
   "source": [
    "forest = RandomForestRegressor(random_state=seed)\n",
    "forest.fit(Xtrain,Ytrain)\n",
    "\n",
    "rfr_score = forest.score(Xtest, Ytest)\n",
    "print('rfr_score:',rfr_score.round(3))\n",
    "rfr_rmse = metrics.mean_squared_error(Ytest,forest.predict(Xtest)) ** 0.5 # ,squared=False\n",
    "print('rfr_rmse:',rfr_rmse.round(3))"
   ]
  },
  {
   "cell_type": "markdown",
   "metadata": {},
   "source": [
    "### L-BFGS-B"
   ]
  },
  {
   "cell_type": "code",
   "execution_count": 8,
   "metadata": {},
   "outputs": [],
   "source": [
    "def func(x):\n",
    "    inputs = [x[0],x[1],x[2],x[3],x[4],x[5],x[6],x[7],x[8]]\n",
    "    inputs = np.array(inputs).reshape(1, -1)\n",
    "    outputs = forest.predict(inputs)\n",
    "    return outputs"
   ]
  },
  {
   "cell_type": "code",
   "execution_count": 9,
   "metadata": {},
   "outputs": [
    {
     "name": "stdout",
     "output_type": "stream",
     "text": [
      "[9.50e+02 3.00e+03 3.20e+03 9.95e+01 4.00e+03 9.00e+02 7.00e-02 5.70e+01\n",
      " 2.00e+01]\n",
      "[88.7202]\n"
     ]
    }
   ],
   "source": [
    "bounds=[[900,1100],[2900,4000],[2900,3500],[99,100],[3000,5000],[800,950],[0.05,1],[55,60],[17,25]]\n",
    "x0 = [950,3000,3200,99.5,4000,900,0.07,57,20]\n",
    "res = minimize(fun=func, x0=x0, bounds=bounds, method='L-BFGS-B')\n",
    "print(res.x)\n",
    "print(res.fun)"
   ]
  },
  {
   "cell_type": "markdown",
   "metadata": {},
   "source": [
    "### L-BFGS-B.Example"
   ]
  },
  {
   "cell_type": "code",
   "execution_count": 10,
   "metadata": {},
   "outputs": [
    {
     "name": "stdout",
     "output_type": "stream",
     "text": [
      "[1. 1. 1.]\n",
      "7.000000000000046\n"
     ]
    }
   ],
   "source": [
    "def func(x, sign, c):    \n",
    "    return sign * (x[0] ** 2 + x[1] + x[2] ** 2) + c\n",
    "\n",
    "bounds=[[1,2],[1,3],[1,2]]\n",
    "mini = minimize(fun=func, x0=[2,3,1], args=(2, 1), bounds=bounds, method='SLSQP')\n",
    "print(mini.x)\n",
    "print(mini.fun)"
   ]
  },
  {
   "cell_type": "code",
   "execution_count": null,
   "metadata": {},
   "outputs": [],
   "source": []
  }
 ],
 "metadata": {
  "kernelspec": {
   "display_name": "Python 3",
   "language": "python",
   "name": "python3"
  },
  "language_info": {
   "codemirror_mode": {
    "name": "ipython",
    "version": 3
   },
   "file_extension": ".py",
   "mimetype": "text/x-python",
   "name": "python",
   "nbconvert_exporter": "python",
   "pygments_lexer": "ipython3",
   "version": "3.8.5"
  }
 },
 "nbformat": 4,
 "nbformat_minor": 4
}
